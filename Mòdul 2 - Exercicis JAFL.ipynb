{
 "cells": [
  {
   "cell_type": "markdown",
   "id": "23cc48c5-bc71-4a70-8e60-f4bff0ad8894",
   "metadata": {},
   "source": [
    "# Mòdul 2 - Exercicis\n",
    "## PART 1 - Exercicis d'estructures de dades amb Python."
   ]
  },
  {
   "cell_type": "markdown",
   "id": "bbacc20b-16e1-48dd-9064-fef51d0b4b5d",
   "metadata": {},
   "source": [
    "### Exercici 1: Crea una llista que agrupi els mesos de l’any en trimestres (1T: gener, febrer i març; 2T: abril, maig, juny...), és a dir, una llista amb 4 llistes dins."
   ]
  },
  {
   "cell_type": "code",
   "execution_count": 183,
   "id": "7bc97803-97e1-4391-b91a-12077bdc8a65",
   "metadata": {},
   "outputs": [
    {
     "data": {
      "text/plain": [
       "[['GENER', 'FEBRER', 'MARÇ'],\n",
       " ['ABRIL', 'MAIG', 'JUNY'],\n",
       " ['JULIOL', 'AGOST', 'SETEMBRE'],\n",
       " ['OCTUBRE', 'NOVEMBRE', 'DECEMBRE']]"
      ]
     },
     "execution_count": 183,
     "metadata": {},
     "output_type": "execute_result"
    }
   ],
   "source": [
    "l1 = ['GENER', 'FEBRER', 'MARÇ']\n",
    "l2 = ['ABRIL', 'MAIG', 'JUNY']\n",
    "l3 = ['JULIOL', 'AGOST', 'SETEMBRE']\n",
    "l4 = ['OCTUBRE', 'NOVEMBRE', 'DECEMBRE']\n",
    "\n",
    "llista = [l1, l2, l3, l4]\n",
    "llista"
   ]
  },
  {
   "cell_type": "markdown",
   "id": "29dd61ff-cf51-4d3d-ba1a-cfa2807ac507",
   "metadata": {},
   "source": [
    "### Exercici 2: Crea un codi que et permeti accedir a: \n",
    "#### - El segon mes del primer trimestre.\n",
    "#### - Els mesos del primer trimestre.\n",
    "#### - Setembre i octubre."
   ]
  },
  {
   "cell_type": "code",
   "execution_count": 184,
   "id": "99f2017d-8dc1-4343-952c-44023c7da2c4",
   "metadata": {},
   "outputs": [
    {
     "data": {
      "text/plain": [
       "'FEBRER'"
      ]
     },
     "execution_count": 184,
     "metadata": {},
     "output_type": "execute_result"
    }
   ],
   "source": [
    "llista [0] [1]\n"
   ]
  },
  {
   "cell_type": "code",
   "execution_count": 185,
   "id": "6548bf32-cd10-41b0-9837-88dd1aeb58ee",
   "metadata": {},
   "outputs": [
    {
     "data": {
      "text/plain": [
       "['GENER', 'FEBRER', 'MARÇ']"
      ]
     },
     "execution_count": 185,
     "metadata": {},
     "output_type": "execute_result"
    }
   ],
   "source": [
    "llista [0]\n"
   ]
  },
  {
   "cell_type": "code",
   "execution_count": 186,
   "id": "d7c3ebdc-b5e3-42e6-a350-28340776761a",
   "metadata": {},
   "outputs": [
    {
     "data": {
      "text/plain": [
       "['SETEMBRE', 'OCTUBRE']"
      ]
     },
     "execution_count": 186,
     "metadata": {},
     "output_type": "execute_result"
    }
   ],
   "source": [
    "llista2 = [llista [2][2] , llista [3][0]]\n",
    "llista2"
   ]
  },
  {
   "cell_type": "markdown",
   "id": "ab97f7c5-cb3d-4b99-ac6f-8e3cbacecf9a",
   "metadata": {},
   "source": [
    "### Exercici 3: Crea una llista amb nombres desordenats i respon a les següents preguntes: \n",
    "\n",
    "#### Quantes vegades apareix el número 3.\n",
    "#### Quantes vegades apareixen els nombres 3 i 4?\n",
    "#### Quin és el número més gran?\n",
    "#### Quins són els 3 números més petits?\n",
    "#### Quin és el rang d’aquesta llista?"
   ]
  },
  {
   "cell_type": "code",
   "execution_count": 187,
   "id": "77735609-d529-452a-ad78-59cbe3a84d62",
   "metadata": {},
   "outputs": [
    {
     "data": {
      "text/plain": [
       "[15, 12, 11, 12, 12, 12, 18, 18, 1, 14, 4, 18, 11, 9, 20, 14, 6, 6, 20, 6]"
      ]
     },
     "execution_count": 187,
     "metadata": {},
     "output_type": "execute_result"
    }
   ],
   "source": [
    "import random\n",
    "llista_desordenada = [random.randint(0,20) for x in range(20)]\n",
    "llista_desordenada"
   ]
  },
  {
   "cell_type": "code",
   "execution_count": 188,
   "id": "159a9c14-c1a5-4960-8c58-6d224a19feb2",
   "metadata": {},
   "outputs": [
    {
     "data": {
      "text/plain": [
       "0"
      ]
     },
     "execution_count": 188,
     "metadata": {},
     "output_type": "execute_result"
    }
   ],
   "source": [
    "llista_desordenada.count(3)"
   ]
  },
  {
   "cell_type": "code",
   "execution_count": 189,
   "id": "d5e97054-0a85-43ae-820d-a0d63777365d",
   "metadata": {},
   "outputs": [
    {
     "data": {
      "text/plain": [
       "1"
      ]
     },
     "execution_count": 189,
     "metadata": {},
     "output_type": "execute_result"
    }
   ],
   "source": [
    "llista_desordenada.count(3)+llista_desordenada.count(4)"
   ]
  },
  {
   "cell_type": "code",
   "execution_count": 190,
   "id": "369a0d71-8616-4ac9-8621-722632b2f3cf",
   "metadata": {},
   "outputs": [
    {
     "name": "stdout",
     "output_type": "stream",
     "text": [
      "0 y 1\n"
     ]
    }
   ],
   "source": [
    "print(llista_desordenada.count(3), 'y',llista_desordenada.count(4))"
   ]
  },
  {
   "cell_type": "code",
   "execution_count": 191,
   "id": "7840002a-fd63-41ab-95f6-1750162d3d67",
   "metadata": {},
   "outputs": [
    {
     "data": {
      "text/plain": [
       "20"
      ]
     },
     "execution_count": 191,
     "metadata": {},
     "output_type": "execute_result"
    }
   ],
   "source": [
    "max(llista_desordenada)"
   ]
  },
  {
   "cell_type": "code",
   "execution_count": 192,
   "id": "8c7874f6-8265-4f1f-a3b8-368f84fb10b4",
   "metadata": {},
   "outputs": [
    {
     "data": {
      "text/plain": [
       "[1, 4, 6]"
      ]
     },
     "execution_count": 192,
     "metadata": {},
     "output_type": "execute_result"
    }
   ],
   "source": [
    "sorted(llista_desordenada)[0:3]"
   ]
  },
  {
   "cell_type": "code",
   "execution_count": 193,
   "id": "1fc68f9a-6b7c-4726-9834-3770214f0087",
   "metadata": {},
   "outputs": [
    {
     "data": {
      "text/plain": [
       "20"
      ]
     },
     "execution_count": 193,
     "metadata": {},
     "output_type": "execute_result"
    }
   ],
   "source": [
    "len(llista_desordenada)"
   ]
  },
  {
   "cell_type": "markdown",
   "id": "1426f770-58a9-43b0-8c1d-f2edb9b9e3ed",
   "metadata": {},
   "source": [
    "### Exercici 4: Crea un diccionari de la següent forma i respon a les preguntes:\n",
    "### compra = { \"Pomes\" : {\"Qty\": 5, \"€\": 0.42}, \"Peres\" : {\"Qty\": 3, \"€\": 0.66} } \n",
    "#### Afegeix alguna fruita més \n",
    "#### Quant han costat les peres en total? \n",
    "#### Quantes fruites hem comprat en total? \n",
    "#### Quina és la fruita més cara? "
   ]
  },
  {
   "cell_type": "code",
   "execution_count": 194,
   "id": "08f7274c-f1a8-4f65-a53c-8acb9986abc8",
   "metadata": {},
   "outputs": [],
   "source": [
    "compra = { \"Pomes\" : {\"Qty\": 5, \"€\": 0.42}, \"Peres\" : {\"Qty\": 3, \"€\": 0.66} } \n"
   ]
  },
  {
   "cell_type": "code",
   "execution_count": 195,
   "id": "1a938846-1b69-4f67-a06d-ae93fd02900d",
   "metadata": {},
   "outputs": [
    {
     "data": {
      "text/plain": [
       "{'Pomes': {'Qty': 5, '€': 0.42},\n",
       " 'Peres': {'Qty': 3, '€': 0.66},\n",
       " 'Platans': {'Qty': 8, '€': 0.33},\n",
       " 'Melons': {'Qty': 3, '€': 2.75}}"
      ]
     },
     "execution_count": 195,
     "metadata": {},
     "output_type": "execute_result"
    }
   ],
   "source": [
    "compra['Platans'] = {'Qty': 8, '€':0.33}\n",
    "compra['Melons'] = {'Qty': 3, '€':2.75}\n",
    "compra\n"
   ]
  },
  {
   "cell_type": "code",
   "execution_count": 196,
   "id": "d4016f66-f0e7-46b0-a96c-a1ff1c4e1320",
   "metadata": {},
   "outputs": [
    {
     "data": {
      "text/plain": [
       "1.98"
      ]
     },
     "execution_count": 196,
     "metadata": {},
     "output_type": "execute_result"
    }
   ],
   "source": [
    "compra['Peres']['Qty']*compra['Peres']['€']"
   ]
  },
  {
   "cell_type": "code",
   "execution_count": 197,
   "id": "f36b884e-ac6d-497f-82a3-a02025c0bc31",
   "metadata": {},
   "outputs": [
    {
     "data": {
      "text/plain": [
       "19"
      ]
     },
     "execution_count": 197,
     "metadata": {},
     "output_type": "execute_result"
    }
   ],
   "source": [
    "sum(compra[x]['Qty'] for x in compra)"
   ]
  },
  {
   "cell_type": "code",
   "execution_count": 198,
   "id": "ac6120cc-43f9-4991-96ce-6f3ae982c140",
   "metadata": {},
   "outputs": [
    {
     "data": {
      "text/plain": [
       "'Pomes'"
      ]
     },
     "execution_count": 198,
     "metadata": {},
     "output_type": "execute_result"
    }
   ],
   "source": [
    "max(compra)"
   ]
  },
  {
   "cell_type": "markdown",
   "id": "de8bd17b-c677-4236-8e1f-1b6933cb3394",
   "metadata": {},
   "source": [
    "## PART 2 - Exercicis d'estructures de control amb Python. "
   ]
  },
  {
   "cell_type": "markdown",
   "id": "9b319246-980d-4e74-aeec-2de73ad29b81",
   "metadata": {},
   "source": [
    "### Exercici 1: L'exercici consisteix a crear una funció que et classifiqui una variable numèrica en funció de l’escala Suspès/Aprovat/Notable/Excel·lent. \n",
    "#### Recorda que Suspès < 5, Aprovat > 5 i < 7, Notable > 7 i < 9 i Excel·lent > 9. "
   ]
  },
  {
   "cell_type": "code",
   "execution_count": 199,
   "id": "c9331a57-753f-4ba1-9f6c-a021f6009a16",
   "metadata": {},
   "outputs": [],
   "source": [
    "def classifica (nota):\n",
    "    if nota < 5:\n",
    "        print('Suspès')\n",
    "    elif nota < 7:\n",
    "        print('Aprovat')\n",
    "    elif nota < 9:\n",
    "        print('Notable')\n",
    "    else:\n",
    "        print('Excel·lent')"
   ]
  },
  {
   "cell_type": "code",
   "execution_count": 200,
   "id": "ad0de7a7-7779-443d-8d42-bb69434d685e",
   "metadata": {},
   "outputs": [
    {
     "name": "stdout",
     "output_type": "stream",
     "text": [
      "Notable\n"
     ]
    }
   ],
   "source": [
    "classifica (7.5)"
   ]
  },
  {
   "cell_type": "code",
   "execution_count": 201,
   "id": "a0222572-9bb3-4375-9344-c2eec67d2854",
   "metadata": {},
   "outputs": [
    {
     "name": "stdout",
     "output_type": "stream",
     "text": [
      "Suspès\n"
     ]
    }
   ],
   "source": [
    "classifica (3.3)"
   ]
  },
  {
   "cell_type": "markdown",
   "id": "4a711c2c-8df2-45f9-99ec-cbd9e228824e",
   "metadata": {},
   "source": [
    "### Exercici 2: Utilitzant el següent tutorial crea una funció que et pregunti dos números. T’ha de mostrar un missatge dient si el primer és més gran, el segon és més gran o són iguals. "
   ]
  },
  {
   "cell_type": "code",
   "execution_count": 202,
   "id": "009cd997-fb8c-4cea-a2f7-fcd1bd785571",
   "metadata": {},
   "outputs": [],
   "source": [
    "def mes_gran (x, y):\n",
    "    x = int(x)\n",
    "    y = int(y)\n",
    "\n",
    "    if x < y:\n",
    "        return(f'el segon número {y} és més gran que el primer número {x}')\n",
    "    elif y < x:\n",
    "        return(f'el primer número {x} és més gran que el segon número {y}')\n",
    "    else:\n",
    "        return(f'tots dos són iguals')"
   ]
  },
  {
   "cell_type": "code",
   "execution_count": 203,
   "id": "53a39a2a-f8bf-4ca2-a1c4-6c875d7d90da",
   "metadata": {},
   "outputs": [
    {
     "data": {
      "text/plain": [
       "'el segon número 1333 és més gran que el primer número 1245'"
      ]
     },
     "execution_count": 203,
     "metadata": {},
     "output_type": "execute_result"
    }
   ],
   "source": [
    "mes_gran (1245, 1333)"
   ]
  },
  {
   "cell_type": "code",
   "execution_count": 204,
   "id": "73a0d48b-3115-4bd0-81ba-7b763ed4a46d",
   "metadata": {},
   "outputs": [
    {
     "data": {
      "text/plain": [
       "'el primer número -645 és més gran que el segon número -876'"
      ]
     },
     "execution_count": 204,
     "metadata": {},
     "output_type": "execute_result"
    }
   ],
   "source": [
    "mes_gran (-645, -876)"
   ]
  },
  {
   "cell_type": "code",
   "execution_count": 205,
   "id": "899efc5b-d486-4f16-8705-598b995d6364",
   "metadata": {},
   "outputs": [
    {
     "name": "stdin",
     "output_type": "stream",
     "text": [
      "Introdueix el primer número 45\n",
      "introdueix el segon número 333\n"
     ]
    },
    {
     "data": {
      "text/plain": [
       "'el segon número 333 és més gran que el primer número 45'"
      ]
     },
     "execution_count": 205,
     "metadata": {},
     "output_type": "execute_result"
    }
   ],
   "source": [
    "num1 = input('Introdueix el primer número')\n",
    "num2 = input('introdueix el segon número')\n",
    "mes_gran (num1, num2)"
   ]
  },
  {
   "cell_type": "code",
   "execution_count": 206,
   "id": "8166fc7a-8e6d-4db5-b051-0ddf760fa0d1",
   "metadata": {},
   "outputs": [
    {
     "name": "stdin",
     "output_type": "stream",
     "text": [
      "Introdueix el primer número 456\n",
      "introdueix el segon número -1232\n"
     ]
    }
   ],
   "source": [
    "x = input('Introdueix el primer número')\n",
    "y = input('introdueix el segon número')\n",
    "\n",
    "def mes_gran (x, y):\n",
    "\n",
    "    if x < y:\n",
    "        return(f'el segon número {y} és més gran que el primer número {x}')\n",
    "    elif y < x:\n",
    "        return(f'el primer número {x} és més gran que el segon número {y}')\n",
    "    else:\n",
    "        return(f'tots dos són iguals')"
   ]
  },
  {
   "cell_type": "code",
   "execution_count": 207,
   "id": "d80de85a-908d-4e2b-8121-ded66bc49412",
   "metadata": {},
   "outputs": [
    {
     "data": {
      "text/plain": [
       "'el primer número 456 és més gran que el segon número -1232'"
      ]
     },
     "execution_count": 207,
     "metadata": {},
     "output_type": "execute_result"
    }
   ],
   "source": [
    "mes_gran (x,y)"
   ]
  },
  {
   "cell_type": "markdown",
   "id": "94fdf384-b1d0-4d16-a5eb-a40a80a0c7f5",
   "metadata": {},
   "source": [
    "### Exercici 3: Crea una funció que et pregunti el teu nom, i et demani un número. Si el número és 0, hauria de mostrar un missatge d’error. En cas contrari, hauria de mostrar el nom repetit tants cops com indiqui el número. Per exemple, “Joan Joan Joan”. "
   ]
  },
  {
   "cell_type": "code",
   "execution_count": 208,
   "id": "8b97bb8a-41d0-4554-a4a6-57364c924ff2",
   "metadata": {},
   "outputs": [
    {
     "name": "stdin",
     "output_type": "stream",
     "text": [
      "Introdueix un nom Pep\n",
      "Introdueix un número de repeticions 7\n"
     ]
    }
   ],
   "source": [
    "nom = input('Introdueix un nom')\n",
    "num = int(input('Introdueix un número de repeticions'))\n",
    "\n",
    "def nom_repetit (nom, num):\n",
    "    if num == 0:\n",
    "        return ('error')\n",
    "    return (nom +' ')*num\n"
   ]
  },
  {
   "cell_type": "code",
   "execution_count": 209,
   "id": "8e8c1ea5-af09-43ef-b109-be64b10ea438",
   "metadata": {},
   "outputs": [
    {
     "data": {
      "text/plain": [
       "'Pep Pep Pep Pep Pep Pep Pep '"
      ]
     },
     "execution_count": 209,
     "metadata": {},
     "output_type": "execute_result"
    }
   ],
   "source": [
    "nom_repetit (nom, num)"
   ]
  },
  {
   "cell_type": "markdown",
   "id": "08e4f240-bec2-4e8a-ac0e-d5e215267e43",
   "metadata": {},
   "source": [
    "### Exercici 4: Crea una funció que donada una llista qualsevol, et digui si és simètrica o no. Si ho és, que et digui quants elements té."
   ]
  },
  {
   "cell_type": "code",
   "execution_count": 220,
   "id": "7914f307-c6ad-4b77-92b2-aefc8aab3d18",
   "metadata": {},
   "outputs": [],
   "source": [
    "def simetria (llista):\n",
    "    if llista == llista[::-1]:\n",
    "        return (f'és simetrica i té {len(llista)} elements')\n",
    "    return ('no és simetrica')"
   ]
  },
  {
   "cell_type": "code",
   "execution_count": 221,
   "id": "44902156-9fe7-4fb3-974b-2e58ec697cac",
   "metadata": {},
   "outputs": [
    {
     "data": {
      "text/plain": [
       "'és simetrica i té 9 elements'"
      ]
     },
     "execution_count": 221,
     "metadata": {},
     "output_type": "execute_result"
    }
   ],
   "source": [
    "llista = [1,2,3,4,5,4,3,2,1]\n",
    "simetria (llista)"
   ]
  },
  {
   "cell_type": "code",
   "execution_count": 222,
   "id": "5cf30511-a36a-41a8-bf73-e11585e1dfa4",
   "metadata": {},
   "outputs": [
    {
     "data": {
      "text/plain": [
       "'no és simetrica'"
      ]
     },
     "execution_count": 222,
     "metadata": {},
     "output_type": "execute_result"
    }
   ],
   "source": [
    "llista = [4,7,8,2,0]\n",
    "simetria (llista)"
   ]
  },
  {
   "cell_type": "markdown",
   "id": "640fd132-f5d5-423a-94a6-d6b21d42bd85",
   "metadata": {},
   "source": [
    "### Exercici 5: Crea una funció que donada una llista, et digui quants números coincideixen amb la seva posició. \n",
    "#### Per exemple [3,4,2,0,2,3,6] el 2 i el 6 coincideixen."
   ]
  },
  {
   "cell_type": "code",
   "execution_count": 225,
   "id": "912b44db-8b70-44aa-859e-ca68b8fba992",
   "metadata": {},
   "outputs": [],
   "source": [
    "def coincidencia(llista):\n",
    "    \n",
    "    coin = []\n",
    "    for num, pos in enumerate(llista):\n",
    "        if num == pos:\n",
    "            coin.append(pos)\n",
    "    return coin"
   ]
  },
  {
   "cell_type": "code",
   "execution_count": 226,
   "id": "21924561-18b1-46e0-ab41-5001c09ba601",
   "metadata": {},
   "outputs": [
    {
     "data": {
      "text/plain": [
       "[2, 6]"
      ]
     },
     "execution_count": 226,
     "metadata": {},
     "output_type": "execute_result"
    }
   ],
   "source": [
    "llista = [3,4,2,0,2,3,6]\n",
    "coincidencia (llista)"
   ]
  },
  {
   "cell_type": "code",
   "execution_count": null,
   "id": "066c7352-727c-4ab0-afc5-784ad026d81e",
   "metadata": {},
   "outputs": [],
   "source": []
  }
 ],
 "metadata": {
  "kernelspec": {
   "display_name": "Python 3 (ipykernel)",
   "language": "python",
   "name": "python3"
  },
  "language_info": {
   "codemirror_mode": {
    "name": "ipython",
    "version": 3
   },
   "file_extension": ".py",
   "mimetype": "text/x-python",
   "name": "python",
   "nbconvert_exporter": "python",
   "pygments_lexer": "ipython3",
   "version": "3.11.7"
  }
 },
 "nbformat": 4,
 "nbformat_minor": 5
}
